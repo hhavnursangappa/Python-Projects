{
 "cells": [
  {
   "cell_type": "markdown",
   "metadata": {},
   "source": [
    "### Automating bank Expense statements\n",
    "- This python scripts automates the monthly expense table using the transaction details exported in the form of a csv file\n",
    "- One thing to keep in mind here is that the csv filename must be saved with the short hand name of the month like Jan, Feb, Mar etc. (case-sensitive)\n",
    "- Input:\n",
    "    - <month>.csv file in the Transactions folder with the 'month'  being the short hand form of the current month\n",
    "- Output:\n",
    "    - Unformatted output.xlsx file containin the columns *DATE*, *COMMODOTY* and *AMOUNT* with the TOTAL as the last row"
   ]
  },
  {
   "cell_type": "markdown",
   "metadata": {},
   "source": [
    "#### 1. Import necessary libraries"
   ]
  },
  {
   "cell_type": "code",
   "execution_count": 1,
   "metadata": {},
   "outputs": [],
   "source": [
    "import pandas as pd\n",
    "import numpy as np\n",
    "import pathlib\n",
    "import datetime"
   ]
  },
  {
   "cell_type": "markdown",
   "metadata": {},
   "source": [
    "#### 2. Read the *Transactions.csv* file"
   ]
  },
  {
   "cell_type": "code",
   "execution_count": 2,
   "metadata": {},
   "outputs": [],
   "source": [
    "# Mapping between german and english months\n",
    "deu_to_eng = {\"Mrz\": \"Mar\", \"Mai\": \"May\", \"Okt\": \"Oct\", \"Dez\": \"Dec\"}\n",
    "\n",
    "# Extract the month from the datetime object\n",
    "month = datetime.datetime.now().strftime(\"%b\")\n",
    "\n",
    "# Read the csv file\n",
    "try:\n",
    "    csv_file_path = pathlib.Path(f\"Transactions/{month}.csv\")\n",
    "except FileNotFoundError:\n",
    "    csv_file_path = pathlib.Path(f\"Transactions/{deu_to_eng[month]}.csv\")\n",
    "    \n",
    "csv_df = pd.read_csv(csv_file_path, header=4, sep=';', usecols=[\"Value date\", \"Beneficiary / Originator\", \"Payment Details\", \"Debit\"], \n",
    "                     dtype={\"Value Date\": 'str', \"Beneficiary / Originator\": 'str', \"Payment Details\": 'str', \"Debit\": 'float'},\n",
    "                     parse_dates=[1], date_format=\"%d/%m/%Y\")\n",
    "\n",
    "# csv_df.head()"
   ]
  },
  {
   "cell_type": "markdown",
   "metadata": {},
   "source": [
    "#### 3. Rename the necessary Columns"
   ]
  },
  {
   "cell_type": "code",
   "execution_count": 3,
   "metadata": {},
   "outputs": [],
   "source": [
    "# Rename the columns\n",
    "csv_df.columns=[\"DATE\", \"COMMODITY\", \"Payment Details\", \"AMOUNT\"]\n",
    "# csv_df.head()"
   ]
  },
  {
   "cell_type": "markdown",
   "metadata": {},
   "source": [
    "#### 4. Replace the NaN values in Collumn COMMODITY with the data in the next column"
   ]
  },
  {
   "cell_type": "code",
   "execution_count": 4,
   "metadata": {},
   "outputs": [],
   "source": [
    "# Replace the NaN values in Collumn COMMODITY with the data in the next column\n",
    "csv_df = csv_df.bfill(axis=1)"
   ]
  },
  {
   "cell_type": "markdown",
   "metadata": {},
   "source": [
    "#### 5. Handle data in Individual columns"
   ]
  },
  {
   "cell_type": "code",
   "execution_count": 5,
   "metadata": {},
   "outputs": [],
   "source": [
    "# Replace the NaN values in Payment Details with None\n",
    "csv_df[\"Payment Details\"] = csv_df[\"Payment Details\"].replace(np.nan, \"None. Please check CSV file for details\")\n",
    "csv_df.head()\n",
    "\n",
    "# Truncate unnecessary data from the COMMODITY column\n",
    "def truncate_data(data):\n",
    "    if \"//\" in str(data):\n",
    "        end_idx = str(data).index(\"//\")\n",
    "        data = str(data[0:end_idx])\n",
    "        \n",
    "    return data\n",
    "\n",
    "csv_df[\"COMMODITY\"] = csv_df[\"COMMODITY\"].apply(truncate_data)\n",
    "\n",
    "# Convert the column Amount to a positive value\n",
    "csv_df[\"AMOUNT\"] = csv_df[\"AMOUNT\"].apply(lambda x: -x)"
   ]
  },
  {
   "cell_type": "markdown",
   "metadata": {},
   "source": [
    "##### 5.1. Determnine category based on the Commodity and add it as a column"
   ]
  },
  {
   "cell_type": "code",
   "execution_count": null,
   "metadata": {},
   "outputs": [
    {
     "data": {
      "text/html": [
       "<div>\n",
       "<style scoped>\n",
       "    .dataframe tbody tr th:only-of-type {\n",
       "        vertical-align: middle;\n",
       "    }\n",
       "\n",
       "    .dataframe tbody tr th {\n",
       "        vertical-align: top;\n",
       "    }\n",
       "\n",
       "    .dataframe thead th {\n",
       "        text-align: right;\n",
       "    }\n",
       "</style>\n",
       "<table border=\"1\" class=\"dataframe\">\n",
       "  <thead>\n",
       "    <tr style=\"text-align: right;\">\n",
       "      <th></th>\n",
       "      <th>DATE</th>\n",
       "      <th>COMMODITY</th>\n",
       "      <th>Payment Details</th>\n",
       "      <th>AMOUNT</th>\n",
       "      <th>CATEGORY</th>\n",
       "      <th>FREQUENCY</th>\n",
       "    </tr>\n",
       "  </thead>\n",
       "  <tbody>\n",
       "    <tr>\n",
       "      <th>0</th>\n",
       "      <td>02/01/2025</td>\n",
       "      <td>Telekom Deutschland GmbH</td>\n",
       "      <td>OTHR Sonst. Transakt Festnetz Vertragskonto 56...</td>\n",
       "      <td>27.89</td>\n",
       "      <td>U</td>\n",
       "      <td>Monthly</td>\n",
       "    </tr>\n",
       "    <tr>\n",
       "      <th>17</th>\n",
       "      <td>16/01/2025</td>\n",
       "      <td>Drillisch Online GmbH</td>\n",
       "      <td>C3882607 U686964600 B790286575 winSIM</td>\n",
       "      <td>7.99</td>\n",
       "      <td>U</td>\n",
       "      <td>Monthly</td>\n",
       "    </tr>\n",
       "    <tr>\n",
       "      <th>12</th>\n",
       "      <td>09/01/2025</td>\n",
       "      <td>Wise Europe SA</td>\n",
       "      <td>pisp1368801733</td>\n",
       "      <td>399.32</td>\n",
       "      <td>I</td>\n",
       "      <td>Monthly</td>\n",
       "    </tr>\n",
       "    <tr>\n",
       "      <th>11</th>\n",
       "      <td>07/01/2025</td>\n",
       "      <td>Drillisch Online GmbH</td>\n",
       "      <td>C3882607 U685812727 B785817932 WINSIM B2C.DE</td>\n",
       "      <td>4.99</td>\n",
       "      <td>U</td>\n",
       "      <td>Monthly</td>\n",
       "    </tr>\n",
       "    <tr>\n",
       "      <th>9</th>\n",
       "      <td>06/01/2025</td>\n",
       "      <td>Wise Europe SA</td>\n",
       "      <td>pisp1362991211</td>\n",
       "      <td>199.12</td>\n",
       "      <td>L</td>\n",
       "      <td>Monthly</td>\n",
       "    </tr>\n",
       "  </tbody>\n",
       "</table>\n",
       "</div>"
      ],
      "text/plain": [
       "          DATE                 COMMODITY  \\\n",
       "0   02/01/2025  Telekom Deutschland GmbH   \n",
       "17  16/01/2025     Drillisch Online GmbH   \n",
       "12  09/01/2025            Wise Europe SA   \n",
       "11  07/01/2025     Drillisch Online GmbH   \n",
       "9   06/01/2025            Wise Europe SA   \n",
       "\n",
       "                                      Payment Details  AMOUNT CATEGORY  \\\n",
       "0   OTHR Sonst. Transakt Festnetz Vertragskonto 56...   27.89        U   \n",
       "17              C3882607 U686964600 B790286575 winSIM    7.99        U   \n",
       "12                                     pisp1368801733  399.32        I   \n",
       "11       C3882607 U685812727 B785817932 WINSIM B2C.DE    4.99        U   \n",
       "9                                      pisp1362991211  199.12        L   \n",
       "\n",
       "   FREQUENCY  \n",
       "0    Monthly  \n",
       "17   Monthly  \n",
       "12   Monthly  \n",
       "11   Monthly  \n",
       "9    Monthly  "
      ]
     },
     "execution_count": 7,
     "metadata": {},
     "output_type": "execute_result"
    }
   ],
   "source": [
    "# Determnine category based on the Commodity and add it as a column\n",
    "def categorize_data(data):\n",
    "    category_values = []\n",
    "    frequency = []\n",
    "    categories = {\"U\": [\"Telekom\", \"ARD\", \"Drillisch\", \"E.ON\"], \n",
    "                \"G\":  [\"ALDI\", \"PENNY\", \"ISTANBUL\", \"LIDL\", \"EDEKA\", \"NORMA\"],\n",
    "                \"R\": [\"Domicil\"], \n",
    "                \"TR\": [\"TICKET\", \"LOGPAY\"],\n",
    "                \"T\": [\"SUBWAY\", \"LIEFERANDO\", \"SIPL\", \"ZATTIS\", \"SALAT KIND\", \"Mdonalds\", \"BACKHAUS\", \"BACKWERK\"],\n",
    "                \"M\": [\"LinkedIn\"]\n",
    "                }\n",
    "\n",
    "    wise_idx = 0\n",
    "    for item in data:\n",
    "        for key in list(categories.keys()):        \n",
    "            if any(s.lower() in str(item).lower() for s in categories[key]):\n",
    "                category_values.append(key)\n",
    "                if key == \"U\" or key == \"R\":\n",
    "                    frequency.append(\"Monthly\")\n",
    "                else:\n",
    "                    frequency.append(\"Non-Monthly\")\n",
    "                break                \n",
    "        else:\n",
    "            if \"wise\" in str(item).lower():        \n",
    "                wise_transactions = list(csv_df.loc[csv_df[\"COMMODITY\"] == item, \"AMOUNT\"])\n",
    "                if wise_transactions[wise_idx] > 300:\n",
    "                    category_values.append(\"I\")\n",
    "                    frequency.append(\"Monthly\")\n",
    "                    wise_idx+=1\n",
    "                elif 100 < wise_transactions[wise_idx] < 300:\n",
    "                    category_values.append(\"L\")\n",
    "                    frequency.append(\"Monthly\")\n",
    "                    wise_idx+=1\n",
    "            elif \"paypal\" in str(item).lower():\n",
    "                category_values.append(\"Unknown\")\n",
    "                frequency.append(\"Non-Monthly\")\n",
    "            else:\n",
    "                category_values.append(\"M\")\n",
    "                frequency.append(\"Non-Monthly\")\n",
    "    return category_values, frequency\n",
    "\n",
    "list_of_commodities = list(csv_df[\"COMMODITY\"])                                    \n",
    "categorized_data, frequencies = categorize_data(list_of_commodities)\n",
    "csv_df[\"CATEGORY\"] = categorized_data\n",
    "csv_df[\"FREQUENCY\"] = frequencies\n",
    "csv_df = csv_df.sort_values(\"FREQUENCY\")\n",
    "# example_df.head()"
   ]
  },
  {
   "cell_type": "markdown",
   "metadata": {},
   "source": [
    "#### 6. Remove the column Payment Details"
   ]
  },
  {
   "cell_type": "code",
   "execution_count": null,
   "metadata": {},
   "outputs": [],
   "source": [
    "# Remove the column Payment Details\n",
    "filtered_df = csv_df.drop(columns=[\"Payment Details\"])\n",
    "# filtered_df.head()"
   ]
  },
  {
   "cell_type": "markdown",
   "metadata": {},
   "source": [
    "#### 7. Drop the NaN values if any"
   ]
  },
  {
   "cell_type": "code",
   "execution_count": null,
   "metadata": {},
   "outputs": [],
   "source": [
    "# Drop the NaN values if any\n",
    "filtered_df.dropna(inplace=True)"
   ]
  },
  {
   "cell_type": "markdown",
   "metadata": {},
   "source": [
    "#### 8. Append the last row as the Sum total"
   ]
  },
  {
   "cell_type": "code",
   "execution_count": null,
   "metadata": {},
   "outputs": [],
   "source": [
    "# Append the last row as the Sum total\n",
    "# total_expense = filtered_df[\"AMOUNT\"].sum()\n",
    "# filtered_df = pd.concat([filtered_df, pd.DataFrame([{\"DATE\": \"TOTAL\", \"COMMODITY\": \"\", \"AMOUNT\": total_expense}])])\n",
    "# print(total_expense)\n",
    "# filtered_df.tail()"
   ]
  },
  {
   "cell_type": "markdown",
   "metadata": {},
   "source": [
    "#### 9. Append the footer dataframe"
   ]
  },
  {
   "cell_type": "code",
   "execution_count": null,
   "metadata": {},
   "outputs": [],
   "source": [
    "# Footer dataframe\n",
    "salary = 2904.18\n",
    "total_expense = filtered_df[\"AMOUNT\"].sum()\n",
    "savings = salary - total_expense\n",
    "\n",
    "f_data = {\"DATE\": [\"TOTAL\", \"SALARY\", \"SAVINGS\"], \"COMMODITY\": [\"\", \"\", \"\"], \"AMOUNT\": [total_expense, salary, savings], \"CATEGORY\": [\"\", \"\", f\"{(savings/salary)*100:.2f} %\"]}\n",
    "f_dataframe = pd.DataFrame(f_data)\n",
    "f_dataframe\n",
    "\n",
    "if 'TOTAL' not in list(filtered_df[\"DATE\"]):\n",
    "    filtered_df = pd.concat([filtered_df, f_dataframe], ignore_index=True)\n",
    "\n",
    "filtered_df.tail()"
   ]
  },
  {
   "cell_type": "markdown",
   "metadata": {},
   "source": [
    "#### 10. Export the filtered dataframe to excel"
   ]
  },
  {
   "cell_type": "code",
   "execution_count": null,
   "metadata": {},
   "outputs": [],
   "source": [
    "# Export the filtered dataframe to excel\n",
    "filtered_df.to_excel(\"output.xlsx\", sheet_name=\"Sheet1\", index=False, float_format=\"%.2f\")"
   ]
  },
  {
   "cell_type": "markdown",
   "metadata": {},
   "source": [
    "#### 11. Format the 'output.xlsx'"
   ]
  },
  {
   "cell_type": "code",
   "execution_count": null,
   "metadata": {},
   "outputs": [],
   "source": [
    "%run expense_formatter_structured.ipynb"
   ]
  }
 ],
 "metadata": {
  "kernelspec": {
   "display_name": "venv_automation",
   "language": "python",
   "name": "venv_automation"
  },
  "language_info": {
   "codemirror_mode": {
    "name": "ipython",
    "version": 3
   },
   "file_extension": ".py",
   "mimetype": "text/x-python",
   "name": "python",
   "nbconvert_exporter": "python",
   "pygments_lexer": "ipython3",
   "version": "3.12.8"
  }
 },
 "nbformat": 4,
 "nbformat_minor": 2
}
